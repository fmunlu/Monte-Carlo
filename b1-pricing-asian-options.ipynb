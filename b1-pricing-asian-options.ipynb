{
 "cells": [
  {
   "cell_type": "markdown",
   "metadata": {},
   "source": [
    "# Pricing of Asian Options\n",
    "\n",
    "Whereas the payoff of European options solely depends on the price of the underlying stock at the time of maturity, the payoff of Asian options depends on the price of the underlying asset at a predetermined discrete set of times between options' inception and maturity. This fixed set of dates is called monitoring dates. We consider only two types of Asian options in this notebook: those whose payoff is determined by the geometric mean of the price of the underlying asset at monitoring dates and those by the arithmetic mean. The former has a closed form analytic solution, whereas the latter does not (we will have to rely on Monte Carlo estimation as a result)."
   ]
  },
  {
   "cell_type": "markdown",
   "metadata": {},
   "source": [
    "We assume that the stock prices follow Geometric Brownian Motion, i.e. the price $S_t$ at time $t$ of a stock can be expressed as\n",
    "$$\n",
    "S_t = S_0 \\exp \\left\\{ \\left( r - \\frac{1}{2} \\sigma^2 \\right) t + \\sigma W_t \\right\\}\n",
    "$$\n",
    "where $S_0$ is the initial stock price (at time 0), $r$ is the risk-free interest rate, $\\sigma$ is the volatility of the stock, and $W_t$ is the standard Brownian motion."
   ]
  },
  {
   "cell_type": "code",
   "execution_count": 1,
   "metadata": {},
   "outputs": [
    {
     "name": "stdout",
     "output_type": "stream",
     "text": [
      "numpy version:  1.16.5\n",
      "pandas version:  0.25.1\n"
     ]
    }
   ],
   "source": [
    "import numpy as np\n",
    "import pandas as pd\n",
    "from scipy.stats import norm\n",
    "from scipy.stats.mstats import gmean\n",
    "\n",
    "print('numpy version: ',np.__version__)\n",
    "print('pandas version: ',pd.__version__)"
   ]
  },
  {
   "cell_type": "markdown",
   "metadata": {},
   "source": [
    "### Geometric Asian Options\n",
    "\n",
    "A geometric Asian call option with strike price $K$ is a path-dependent option whose payoff at maturity $T$ is $(\\bar{S}_G - K)^+$, where $\\bar{S}_G$ is the geometric mean of the stock prices for a given set of monitoring dates $0 \\leq t_1 < t_2 < \\cdots < t_m \\leq T$. The geometric mean of stock prices denoted by $\\bar{S}_G$ is defined by\n",
    "$$\n",
    "\\bar{S}_G = \\left( \\prod_{i=1}^{m} S_{t_i} \\right) ^ {1 /m}\n",
    "$$\n",
    "It is fairly straighforward to see that $\\log (\\bar{S}_G) \\sim N(\\bar{\\mu}, \\bar{\\sigma}^2)$, where\n",
    "$$\n",
    "\\bar{\\mu} = \\log S_0 + \\left(r - \\frac{1}{2} \\sigma^2 \\right) \\bar{t}, \\quad \\text{where} \\quad \\bar{t} = \\frac{1}{m} \\sum_{i=1}^m t_i\n",
    "$$\n",
    "$$\n",
    "\\bar{\\sigma}^2 = \\frac{\\sigma^2}{m^2} \\sum_{i=1}^m (2m - 2i + 1) t_i\n",
    "$$\n",
    "Therefore, the price of this option has the closed form analytic solution:\n",
    "$$\n",
    "\\mathbb{E}[(\\bar{S}_G - K)^+] = e^{-rT} \\left( e^{\\bar{\\mu} + \\frac{1}{2} \\bar{\\sigma}^2} \\Phi(\\bar{\\sigma} - \\theta) - K \\Phi(-\\theta) \\right) \\quad\n",
    "\\text{with} \\quad \\theta = \\frac{1}{\\bar{\\sigma}} \\left(\\log K - \\bar{\\mu} \\right)\n",
    "$$\n",
    "and $\\Phi$ is the $CDF$ of standard normal."
   ]
  },
  {
   "cell_type": "code",
   "execution_count": 2,
   "metadata": {},
   "outputs": [],
   "source": [
    "# For simplicity we assume that the monitoring dates are at the end of each month\n",
    "\n",
    "def BS_asian_geometric_call(S_0, r, sigma, K, T):\n",
    "    '''\n",
    "    Black-Scholes price for a geometric Asian call option:\n",
    "    S_0 - price of the underlying stock at time 0\n",
    "    r - annual risk-free interest rate in decimal\n",
    "    sigma - volatility of the underlying stock\n",
    "    K - strike price\n",
    "    T - time to maturity in years\n",
    "    The result is rounded to 5 decimal places\n",
    "    '''\n",
    "    t = np.floor(12 * T)\n",
    "    t_bar = (t + 1) / 24\n",
    "    mu_bar = np.log(S_0) + (r - 0.5 * sigma ** 2) * t_bar\n",
    "    sigma_bar = np.sqrt(((sigma ** 2) / (t ** 2)) * 1 / 72 * t * (t + 1) * (2 * t + 1))\n",
    "    theta = (1 / sigma_bar) * (np.log(K) - mu_bar)\n",
    "    bs_asian_geometric_call_price = np.exp(-r * T) * (np.exp(mu_bar + 0.5 * sigma_bar ** 2) * norm.cdf(sigma_bar - theta) - K * norm.cdf(-theta))\n",
    "    return round(bs_asian_geometric_call_price, 5)"
   ]
  },
  {
   "cell_type": "code",
   "execution_count": 3,
   "metadata": {},
   "outputs": [],
   "source": [
    "# For simplicity we assume that the monitoring dates are at the end of each month\n",
    "\n",
    "def MC_asian_geometric_call(S_0, r, sigma, K, T, n):\n",
    "    '''\n",
    "    Price estimate for geometric Asian call option using Monte Carlo simulation:\n",
    "    We will generate paths for the Geometric Brownian Motion\n",
    "    S_0 - price of the underlying stock at time 0\n",
    "    r - annual risk-free interest rate in decimal\n",
    "    sigma - volatility of the underlying stock\n",
    "    K - strike price\n",
    "    T - time to maturity in years\n",
    "    n - number of iterations\n",
    "    Returns both the price and standard error\n",
    "    The results are  rounded to 5 decimal places\n",
    "    '''\n",
    "    t = np.floor(12 * T)\n",
    "    Z = (r - 0.5 * sigma **2) * (1/12) + sigma * (1 / np.sqrt(12)) * np.random.standard_normal(size=(n, int(t)))\n",
    "    W = np.cumsum(Z, axis=1) \n",
    "    Y = S_0 * np.exp(W)\n",
    "    X1 = gmean(Y, axis=1)\n",
    "    X = np.exp(-r * T) * np.maximum(X1 - K, np.zeros(n))   \n",
    "    asian_geometric_call_price = np.mean(X)\n",
    "    asian_geometric_call_se = np.std(X) / np.sqrt(n)\n",
    "    return round(asian_geometric_call_price, 5), round(asian_geometric_call_se, 5)"
   ]
  },
  {
   "cell_type": "markdown",
   "metadata": {},
   "source": [
    "### Comparison of the Analytic Price and Monte Carlo Estimate\n",
    "\n",
    "We will now compare the Analytic price of call options and their Monte Carlo estimates for various strike prices and various sample sizes. "
   ]
  },
  {
   "cell_type": "markdown",
   "metadata": {},
   "source": [
    "#### Geometric Asian Call Option with strike price $K=40$,  $S_0 = 50$, $r=0.05$, $\\sigma=0.2$, and $T=1$."
   ]
  },
  {
   "cell_type": "code",
   "execution_count": 4,
   "metadata": {},
   "outputs": [
    {
     "data": {
      "text/html": [
       "<div>\n",
       "<style scoped>\n",
       "    .dataframe tbody tr th:only-of-type {\n",
       "        vertical-align: middle;\n",
       "    }\n",
       "\n",
       "    .dataframe tbody tr th {\n",
       "        vertical-align: top;\n",
       "    }\n",
       "\n",
       "    .dataframe thead th {\n",
       "        text-align: right;\n",
       "    }\n",
       "</style>\n",
       "<table border=\"1\" class=\"dataframe\">\n",
       "  <thead>\n",
       "    <tr style=\"text-align: right;\">\n",
       "      <th></th>\n",
       "      <th>Sample Size</th>\n",
       "      <th>Black-Scholes Price</th>\n",
       "      <th>Monte Carlo Estimate</th>\n",
       "      <th>Standard Error</th>\n",
       "    </tr>\n",
       "  </thead>\n",
       "  <tbody>\n",
       "    <tr>\n",
       "      <td>0</td>\n",
       "      <td>10000.0</td>\n",
       "      <td>10.69977</td>\n",
       "      <td>10.79074</td>\n",
       "      <td>0.05927</td>\n",
       "    </tr>\n",
       "    <tr>\n",
       "      <td>1</td>\n",
       "      <td>100000.0</td>\n",
       "      <td>10.69977</td>\n",
       "      <td>10.71293</td>\n",
       "      <td>0.01867</td>\n",
       "    </tr>\n",
       "    <tr>\n",
       "      <td>2</td>\n",
       "      <td>1000000.0</td>\n",
       "      <td>10.69977</td>\n",
       "      <td>10.70506</td>\n",
       "      <td>0.00592</td>\n",
       "    </tr>\n",
       "    <tr>\n",
       "      <td>3</td>\n",
       "      <td>10000000.0</td>\n",
       "      <td>10.69977</td>\n",
       "      <td>10.69618</td>\n",
       "      <td>0.00187</td>\n",
       "    </tr>\n",
       "  </tbody>\n",
       "</table>\n",
       "</div>"
      ],
      "text/plain": [
       "   Sample Size  Black-Scholes Price  Monte Carlo Estimate  Standard Error\n",
       "0      10000.0             10.69977              10.79074         0.05927\n",
       "1     100000.0             10.69977              10.71293         0.01867\n",
       "2    1000000.0             10.69977              10.70506         0.00592\n",
       "3   10000000.0             10.69977              10.69618         0.00187"
      ]
     },
     "execution_count": 4,
     "metadata": {},
     "output_type": "execute_result"
    }
   ],
   "source": [
    "np.random.seed(2019)\n",
    "sample_size = [1e4, 1e5, 1e6, 1e7]\n",
    "mc_estimates = []\n",
    "mc_se = []\n",
    "bs_price = np.repeat(BS_asian_geometric_call(50, 0.05, 0.2, 40, 1), 4)\n",
    "\n",
    "for n in sample_size:\n",
    "    mc_call = MC_asian_geometric_call(50, 0.05, 0.2, 40, 1, int(n))\n",
    "    mc_estimates.append(mc_call[0])\n",
    "    mc_se.append(mc_call[1])\n",
    "\n",
    "df = pd.DataFrame({'Sample Size': sample_size, 'Black-Scholes Price': bs_price, \n",
    "                   'Monte Carlo Estimate': mc_estimates, 'Standard Error': mc_se})\n",
    "df"
   ]
  },
  {
   "cell_type": "markdown",
   "metadata": {},
   "source": [
    "#### Geometric Asian Call Option with strike price $K=60$,  $S_0 = 50$, $r=0.05$, $\\sigma=0.2$, and $T=1$."
   ]
  },
  {
   "cell_type": "code",
   "execution_count": 5,
   "metadata": {},
   "outputs": [
    {
     "data": {
      "text/html": [
       "<div>\n",
       "<style scoped>\n",
       "    .dataframe tbody tr th:only-of-type {\n",
       "        vertical-align: middle;\n",
       "    }\n",
       "\n",
       "    .dataframe tbody tr th {\n",
       "        vertical-align: top;\n",
       "    }\n",
       "\n",
       "    .dataframe thead th {\n",
       "        text-align: right;\n",
       "    }\n",
       "</style>\n",
       "<table border=\"1\" class=\"dataframe\">\n",
       "  <thead>\n",
       "    <tr style=\"text-align: right;\">\n",
       "      <th></th>\n",
       "      <th>Sample Size</th>\n",
       "      <th>Black-Scholes Price</th>\n",
       "      <th>Monte Carlo Estimate</th>\n",
       "      <th>Standard Error</th>\n",
       "    </tr>\n",
       "  </thead>\n",
       "  <tbody>\n",
       "    <tr>\n",
       "      <td>0</td>\n",
       "      <td>10000.0</td>\n",
       "      <td>0.29875</td>\n",
       "      <td>0.31994</td>\n",
       "      <td>0.01370</td>\n",
       "    </tr>\n",
       "    <tr>\n",
       "      <td>1</td>\n",
       "      <td>100000.0</td>\n",
       "      <td>0.29875</td>\n",
       "      <td>0.29660</td>\n",
       "      <td>0.00419</td>\n",
       "    </tr>\n",
       "    <tr>\n",
       "      <td>2</td>\n",
       "      <td>1000000.0</td>\n",
       "      <td>0.29875</td>\n",
       "      <td>0.30073</td>\n",
       "      <td>0.00134</td>\n",
       "    </tr>\n",
       "    <tr>\n",
       "      <td>3</td>\n",
       "      <td>10000000.0</td>\n",
       "      <td>0.29875</td>\n",
       "      <td>0.29843</td>\n",
       "      <td>0.00042</td>\n",
       "    </tr>\n",
       "  </tbody>\n",
       "</table>\n",
       "</div>"
      ],
      "text/plain": [
       "   Sample Size  Black-Scholes Price  Monte Carlo Estimate  Standard Error\n",
       "0      10000.0              0.29875               0.31994         0.01370\n",
       "1     100000.0              0.29875               0.29660         0.00419\n",
       "2    1000000.0              0.29875               0.30073         0.00134\n",
       "3   10000000.0              0.29875               0.29843         0.00042"
      ]
     },
     "execution_count": 5,
     "metadata": {},
     "output_type": "execute_result"
    }
   ],
   "source": [
    "np.random.seed(2019)\n",
    "sample_size = [1e4, 1e5, 1e6, 1e7]\n",
    "mc_estimates = []\n",
    "mc_se = []\n",
    "bs_price = np.repeat(BS_asian_geometric_call(50, 0.05, 0.2, 60, 1), 4)\n",
    "\n",
    "for n in sample_size:\n",
    "    mc_call = MC_asian_geometric_call(50, 0.05, 0.2, 60, 1, int(n))\n",
    "    mc_estimates.append(mc_call[0])\n",
    "    mc_se.append(mc_call[1])\n",
    "\n",
    "df = pd.DataFrame({'Sample Size': sample_size, 'Black-Scholes Price': bs_price, \n",
    "                   'Monte Carlo Estimate': mc_estimates, 'Standard Error': mc_se})\n",
    "df"
   ]
  },
  {
   "cell_type": "markdown",
   "metadata": {},
   "source": [
    "#### Observation:\n",
    "If one increases the sample size in a Monte Carlo estimation by a factor of $n$, the standard error will be reduced by a factor of $\\sqrt n$. One can easily observe this phenomennon by comparing the 1st and the 3rd rows (or 2nd and 4th for that matter) in each dataframe above by noting the 100-fold increase in sample size and 10-fold decrease in standard error."
   ]
  },
  {
   "cell_type": "markdown",
   "metadata": {},
   "source": [
    "### Arithmetic Asian Options\n",
    "\n",
    "An arithmetic Asian call option with strike price $K$ is a path-dependent option whose payoff at maturity $T$ is $(\\bar{S}_A - K)^+$, where $\\bar{S}_A$ is the arithmetic mean of the stock prices for a given set of monitoring dates $0 \\leq t_1 < t_2 < \\cdots < t_m \\leq T$. The arithmetic mean of stock prices denoted by $\\bar{S}_A$ is defined by:\n",
    "$$\n",
    "\\bar{S}_A = \\frac{1}{m} \\left( \\sum_{i=1}^{m} S_{t_i} \\right)\n",
    "$$\n",
    "Unlike geometric Asian options, arithmetic Asian options do not have an analytic formula for pricing / valuation; therefore, we will have to estimate them. Again, we will use Monte Carlo for that purpose."
   ]
  },
  {
   "cell_type": "code",
   "execution_count": 6,
   "metadata": {},
   "outputs": [],
   "source": [
    "# For simplicity we assume that the monitoring dates are at the end of each month\n",
    "\n",
    "def MC_asian_arithmetic_call(S_0, r, sigma, K, T, n):\n",
    "    '''\n",
    "    Price estimate for arithmetic Asian call option using Monte Carlo simulation:\n",
    "    We will generate paths for the Geometric Brownian Motion\n",
    "    S_0 - price of the underlying stock at time 0\n",
    "    r - annual risk-free interest rate in decimal\n",
    "    sigma - volatility of the underlying stock\n",
    "    K - strike price\n",
    "    T - time to maturity in years\n",
    "    n - number of iterations\n",
    "    Returns both the price and standard error\n",
    "    The results are  rounded to 5 decimal places\n",
    "    '''\n",
    "    t = np.floor(12 * T)\n",
    "    Z = (r - 0.5 * sigma **2) * (1/12) + sigma * (1 / np.sqrt(12)) * np.random.standard_normal(size=(n, int(t)))\n",
    "    W = np.cumsum(Z, axis=1) \n",
    "    Y = S_0 * np.exp(W)\n",
    "    X1 = np.mean(Y, axis=1)\n",
    "    X = np.exp(-r * T) * np.maximum(X1 - K, np.zeros(n))   \n",
    "    asian_arithmetic_call_price = np.mean(X)\n",
    "    asian_arithmetic_call_se = np.std(X) / np.sqrt(n)\n",
    "    return round(asian_arithmetic_call_price, 5), round(asian_arithmetic_call_se, 5)"
   ]
  },
  {
   "cell_type": "markdown",
   "metadata": {},
   "source": [
    "#### Arithmetic Asian Call Option with strike price $K=40$,  $S_0 = 50$, $r=0.05$, $\\sigma=0.2$, and $T=1$."
   ]
  },
  {
   "cell_type": "code",
   "execution_count": 7,
   "metadata": {},
   "outputs": [
    {
     "data": {
      "text/html": [
       "<div>\n",
       "<style scoped>\n",
       "    .dataframe tbody tr th:only-of-type {\n",
       "        vertical-align: middle;\n",
       "    }\n",
       "\n",
       "    .dataframe tbody tr th {\n",
       "        vertical-align: top;\n",
       "    }\n",
       "\n",
       "    .dataframe thead th {\n",
       "        text-align: right;\n",
       "    }\n",
       "</style>\n",
       "<table border=\"1\" class=\"dataframe\">\n",
       "  <thead>\n",
       "    <tr style=\"text-align: right;\">\n",
       "      <th></th>\n",
       "      <th>Sample Size</th>\n",
       "      <th>Black-Scholes Price</th>\n",
       "      <th>Monte Carlo Estimate</th>\n",
       "      <th>Standard Error</th>\n",
       "    </tr>\n",
       "  </thead>\n",
       "  <tbody>\n",
       "    <tr>\n",
       "      <td>0</td>\n",
       "      <td>10000.0</td>\n",
       "      <td>NaN</td>\n",
       "      <td>10.95334</td>\n",
       "      <td>0.06009</td>\n",
       "    </tr>\n",
       "    <tr>\n",
       "      <td>1</td>\n",
       "      <td>100000.0</td>\n",
       "      <td>NaN</td>\n",
       "      <td>10.87266</td>\n",
       "      <td>0.01891</td>\n",
       "    </tr>\n",
       "    <tr>\n",
       "      <td>2</td>\n",
       "      <td>1000000.0</td>\n",
       "      <td>NaN</td>\n",
       "      <td>10.86475</td>\n",
       "      <td>0.00599</td>\n",
       "    </tr>\n",
       "    <tr>\n",
       "      <td>3</td>\n",
       "      <td>10000000.0</td>\n",
       "      <td>NaN</td>\n",
       "      <td>10.85595</td>\n",
       "      <td>0.00189</td>\n",
       "    </tr>\n",
       "  </tbody>\n",
       "</table>\n",
       "</div>"
      ],
      "text/plain": [
       "   Sample Size  Black-Scholes Price  Monte Carlo Estimate  Standard Error\n",
       "0      10000.0                  NaN              10.95334         0.06009\n",
       "1     100000.0                  NaN              10.87266         0.01891\n",
       "2    1000000.0                  NaN              10.86475         0.00599\n",
       "3   10000000.0                  NaN              10.85595         0.00189"
      ]
     },
     "execution_count": 7,
     "metadata": {},
     "output_type": "execute_result"
    }
   ],
   "source": [
    "np.random.seed(2019)\n",
    "sample_size = [1e4, 1e5, 1e6, 1e7]\n",
    "mc_estimates = []\n",
    "mc_se = []\n",
    "bs_price = np.repeat(np.nan, 4)\n",
    "\n",
    "for n in sample_size:\n",
    "    mc_call = MC_asian_arithmetic_call(50, 0.05, 0.2, 40, 1, int(n))\n",
    "    mc_estimates.append(mc_call[0])\n",
    "    mc_se.append(mc_call[1])\n",
    "\n",
    "df = pd.DataFrame({'Sample Size': sample_size, 'Black-Scholes Price': bs_price, \n",
    "                   'Monte Carlo Estimate': mc_estimates, 'Standard Error': mc_se})\n",
    "df"
   ]
  },
  {
   "cell_type": "markdown",
   "metadata": {},
   "source": [
    "#### Arithmetic Asian Call Option with strike price $K=60$,  $S_0 = 50$, $r=0.05$, $\\sigma=0.2$, and $T=1$."
   ]
  },
  {
   "cell_type": "code",
   "execution_count": 8,
   "metadata": {},
   "outputs": [
    {
     "data": {
      "text/html": [
       "<div>\n",
       "<style scoped>\n",
       "    .dataframe tbody tr th:only-of-type {\n",
       "        vertical-align: middle;\n",
       "    }\n",
       "\n",
       "    .dataframe tbody tr th {\n",
       "        vertical-align: top;\n",
       "    }\n",
       "\n",
       "    .dataframe thead th {\n",
       "        text-align: right;\n",
       "    }\n",
       "</style>\n",
       "<table border=\"1\" class=\"dataframe\">\n",
       "  <thead>\n",
       "    <tr style=\"text-align: right;\">\n",
       "      <th></th>\n",
       "      <th>Sample Size</th>\n",
       "      <th>Black-Scholes Price</th>\n",
       "      <th>Monte Carlo Estimate</th>\n",
       "      <th>Standard Error</th>\n",
       "    </tr>\n",
       "  </thead>\n",
       "  <tbody>\n",
       "    <tr>\n",
       "      <td>0</td>\n",
       "      <td>10000.0</td>\n",
       "      <td>NaN</td>\n",
       "      <td>0.36156</td>\n",
       "      <td>0.01499</td>\n",
       "    </tr>\n",
       "    <tr>\n",
       "      <td>1</td>\n",
       "      <td>100000.0</td>\n",
       "      <td>NaN</td>\n",
       "      <td>0.33461</td>\n",
       "      <td>0.00457</td>\n",
       "    </tr>\n",
       "    <tr>\n",
       "      <td>2</td>\n",
       "      <td>1000000.0</td>\n",
       "      <td>NaN</td>\n",
       "      <td>0.33939</td>\n",
       "      <td>0.00146</td>\n",
       "    </tr>\n",
       "    <tr>\n",
       "      <td>3</td>\n",
       "      <td>10000000.0</td>\n",
       "      <td>NaN</td>\n",
       "      <td>0.33706</td>\n",
       "      <td>0.00046</td>\n",
       "    </tr>\n",
       "  </tbody>\n",
       "</table>\n",
       "</div>"
      ],
      "text/plain": [
       "   Sample Size  Black-Scholes Price  Monte Carlo Estimate  Standard Error\n",
       "0      10000.0                  NaN               0.36156         0.01499\n",
       "1     100000.0                  NaN               0.33461         0.00457\n",
       "2    1000000.0                  NaN               0.33939         0.00146\n",
       "3   10000000.0                  NaN               0.33706         0.00046"
      ]
     },
     "execution_count": 8,
     "metadata": {},
     "output_type": "execute_result"
    }
   ],
   "source": [
    "np.random.seed(2019)\n",
    "sample_size = [1e4, 1e5, 1e6, 1e7]\n",
    "mc_estimates = []\n",
    "mc_se = []\n",
    "bs_price = np.repeat(np.nan, 4)\n",
    "\n",
    "for n in sample_size:\n",
    "    mc_call = MC_asian_arithmetic_call(50, 0.05, 0.2, 60, 1, int(n))\n",
    "    mc_estimates.append(mc_call[0])\n",
    "    mc_se.append(mc_call[1])\n",
    "\n",
    "df = pd.DataFrame({'Sample Size': sample_size, 'Black-Scholes Price': bs_price, \n",
    "                   'Monte Carlo Estimate': mc_estimates, 'Standard Error': mc_se})\n",
    "df"
   ]
  },
  {
   "cell_type": "markdown",
   "metadata": {},
   "source": [
    "#### Observation:\n",
    "If one increases the sample size in a Monte Carlo estimation by a factor of $n$, the standard error will be reduced by a factor of $\\sqrt n$. One can easily observe this phenomennon by comparing the 1st and the 3rd rows (or 2nd and 4th for that matter) in each dataframe above by noting the 100-fold increase in sample size and 10-fold decrease in standard error."
   ]
  },
  {
   "cell_type": "code",
   "execution_count": null,
   "metadata": {},
   "outputs": [],
   "source": []
  }
 ],
 "metadata": {
  "kernelspec": {
   "display_name": "Python 3",
   "language": "python",
   "name": "python3"
  },
  "language_info": {
   "codemirror_mode": {
    "name": "ipython",
    "version": 3
   },
   "file_extension": ".py",
   "mimetype": "text/x-python",
   "name": "python",
   "nbconvert_exporter": "python",
   "pygments_lexer": "ipython3",
   "version": "3.7.5"
  }
 },
 "nbformat": 4,
 "nbformat_minor": 4
}
