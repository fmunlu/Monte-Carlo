{
 "cells": [
  {
   "cell_type": "markdown",
   "metadata": {},
   "source": [
    "# European Call and Put Option Pricing\n",
    "In this notebook, we calculate prices of European call and put options using Black-Scholes formula and the Monte Carlo method."
   ]
  },
  {
   "cell_type": "markdown",
   "metadata": {},
   "source": [
    "We assume that the stock prices follow Geometric Brownian Motion, i.e. the price $S_t$ at time $t$ of a stock can be expressed as\n",
    "$$\n",
    "S_t = S_0 \\exp \\left\\{ \\left( r - \\frac{1}{2} \\sigma^2 \\right) t + \\sigma W_t \\right\\}\n",
    "$$\n",
    "where $S_0$ is the initial stock price (at time 0), $r$ is the risk-free interest rate, $\\sigma$ is the volatility of the stock, and $W_t$ is the standard Brownian motion."
   ]
  },
  {
   "cell_type": "code",
   "execution_count": 10,
   "metadata": {},
   "outputs": [
    {
     "name": "stdout",
     "output_type": "stream",
     "text": [
      "numpy version:  1.17.4\n",
      "pandas version:  0.25.3\n"
     ]
    }
   ],
   "source": [
    "import numpy as np\n",
    "import pandas as pd\n",
    "from scipy.stats import norm\n",
    "\n",
    "print('numpy version: ',np.__version__)\n",
    "print('pandas version: ',pd.__version__)"
   ]
  },
  {
   "cell_type": "markdown",
   "metadata": {},
   "source": [
    "### Black-Scholes Formula for European Call and Put Options\n",
    "\n",
    "We denote the maturity by $T$ and the strike price by $K$. Then the Black-Scholes price of the option is given by\n",
    "$$\n",
    "\\mathbb{E}[(K - S_T)^+] = S_0 \\Phi(\\sigma \\sqrt T - \\theta) - K e^{-rT} \\Phi(-\\theta) \\quad \\text{where} \\quad \n",
    "\\theta = \\frac{1}{\\sigma \\sqrt T} \\log \\frac{K}{S_0} + \\left( \\frac{1}{2} \\sigma - \\frac{r}{\\sigma} \\right) \\sqrt T\n",
    "$$\n",
    "and $\\Phi$ is the $CDF$ of the standard normal.\n"
   ]
  },
  {
   "cell_type": "code",
   "execution_count": 2,
   "metadata": {},
   "outputs": [],
   "source": [
    "def BS_call(S_0, r, sigma, K, T):\n",
    "    '''\n",
    "    Black-Scholes price for European call option:\n",
    "    S_0 - price of the underlying stock at time 0\n",
    "    r - annual risk-free interest rate in decimal\n",
    "    sigma - volatility of the underlying stock\n",
    "    K - strike price\n",
    "    T - time to maturity in years\n",
    "    The result is rounded to 5 decimal places\n",
    "    '''\n",
    "    theta = (1 / (sigma * np.sqrt(T))) * np.log(K / S_0) + (0.5 * sigma - r / sigma) * np.sqrt(T)\n",
    "    bs_call_price = S_0 * norm.cdf(sigma * np.sqrt(T) - theta) - K * np.exp(-r * T) * norm.cdf(-theta)\n",
    "    return round(bs_call_price, 5)"
   ]
  },
  {
   "cell_type": "markdown",
   "metadata": {},
   "source": [
    "We calculate the price of an European put option with the same parameters using the 'put-call parity':\n",
    "$$\n",
    "\\mathbb{E}[(S_T - K)^+] = \\mathbb{E}[(K - S_T)^+] - S_0 + K e^{-rT}\n",
    "$$\n"
   ]
  },
  {
   "cell_type": "code",
   "execution_count": 3,
   "metadata": {},
   "outputs": [],
   "source": [
    "def BS_put(S_0, r, sigma, K, T):\n",
    "    '''\n",
    "    Black-Scholes price for European put option:\n",
    "    S_0 - price of the underlying stock at time 0\n",
    "    r - annual risk-free interest rate in decimal\n",
    "    sigma - volatility of the underlying stock\n",
    "    K - strike price\n",
    "    T - time to maturity in years\n",
    "    The result is rounded to 5 decimal places\n",
    "    '''\n",
    "    bs_put_price = BS_call(S_0, r, sigma, K, T) - S_0 + K * np.exp(-r * T)\n",
    "    return round(bs_put_price, 5)"
   ]
  },
  {
   "cell_type": "markdown",
   "metadata": {},
   "source": [
    "### Calculation of European Call and Put Options Using Monte Carlo"
   ]
  },
  {
   "cell_type": "code",
   "execution_count": 4,
   "metadata": {},
   "outputs": [],
   "source": [
    "def MC_call(S_0, r, sigma, K, T, n):\n",
    "    '''\n",
    "    Price for European call option using Monte Carlo simulation:\n",
    "    S_0 - price of the underlying stock at time 0\n",
    "    r - annual risk-free interest rate in decimal\n",
    "    sigma - volatility of the underlying stock\n",
    "    K - strike price\n",
    "    T - time to maturity in years\n",
    "    n - number of iterations\n",
    "    Returns both the price and standard error\n",
    "    The results are  rounded to 5 decimal places\n",
    "    '''\n",
    "    Z = np.random.standard_normal(size=n)\n",
    "    Y = S_0 * np.exp((r - 0.5 * sigma ** 2) * T + sigma * np.sqrt(T) * Z)\n",
    "    X = np.exp(-r * T) * np.maximum(Y - K, np.zeros(n))\n",
    "    mc_call_price = np.mean(X)\n",
    "    mc_call_se = np.std(X) / np.sqrt(n)\n",
    "    return round(mc_call_price, 5), round(mc_call_se, 5)"
   ]
  },
  {
   "cell_type": "code",
   "execution_count": 5,
   "metadata": {},
   "outputs": [],
   "source": [
    "def MC_put(S_0, r, sigma, K, T, n):\n",
    "    '''\n",
    "    Price for European put option using Monte Carlo simulation:\n",
    "    S_0 - price of the underlying stock at time 0\n",
    "    r - annual risk-free interest rate in decimal\n",
    "    sigma - volatility of the underlying stock\n",
    "    K - strike price\n",
    "    T - time to maturity in years\n",
    "    n - number of iterations\n",
    "    Returns both the price and standard error\n",
    "    The results are  rounded to 5 decimal places\n",
    "    '''\n",
    "    Z = np.random.standard_normal(size=n)\n",
    "    Y = S_0 * np.exp((r - 0.5 * sigma ** 2) * T + sigma * np.sqrt(T) * Z)\n",
    "    X = np.exp(-r * T) * np.maximum(K - Y, np.zeros(n))\n",
    "    mc_put_price = np.mean(X)\n",
    "    mc_put_se = np.std(X) / np.sqrt(n)\n",
    "    return round(mc_put_price, 5), round(mc_put_se, 5)"
   ]
  },
  {
   "cell_type": "markdown",
   "metadata": {},
   "source": [
    "### Comparison of the Black-Scholes Price and Monte Carlo Estimate\n",
    "\n",
    "We now compare the Black-Scholes price of call and put options and their Monte Carlo estimates for various strike prices and various sample sizes. "
   ]
  },
  {
   "cell_type": "markdown",
   "metadata": {},
   "source": [
    "#### European Call Option with strike price $K=40$,  $S_0 = 50$, $r=0.05$, $\\sigma=0.2$, and $T=1$."
   ]
  },
  {
   "cell_type": "code",
   "execution_count": 6,
   "metadata": {},
   "outputs": [
    {
     "data": {
      "text/html": [
       "<div>\n",
       "<style scoped>\n",
       "    .dataframe tbody tr th:only-of-type {\n",
       "        vertical-align: middle;\n",
       "    }\n",
       "\n",
       "    .dataframe tbody tr th {\n",
       "        vertical-align: top;\n",
       "    }\n",
       "\n",
       "    .dataframe thead th {\n",
       "        text-align: right;\n",
       "    }\n",
       "</style>\n",
       "<table border=\"1\" class=\"dataframe\">\n",
       "  <thead>\n",
       "    <tr style=\"text-align: right;\">\n",
       "      <th></th>\n",
       "      <th>Sample Size</th>\n",
       "      <th>Black-Scholes Price</th>\n",
       "      <th>Monte Carlo Estimate</th>\n",
       "      <th>Standard Error</th>\n",
       "    </tr>\n",
       "  </thead>\n",
       "  <tbody>\n",
       "    <tr>\n",
       "      <th>0</th>\n",
       "      <td>10000.0</td>\n",
       "      <td>12.29442</td>\n",
       "      <td>12.27792</td>\n",
       "      <td>0.09577</td>\n",
       "    </tr>\n",
       "    <tr>\n",
       "      <th>1</th>\n",
       "      <td>100000.0</td>\n",
       "      <td>12.29442</td>\n",
       "      <td>12.33168</td>\n",
       "      <td>0.03035</td>\n",
       "    </tr>\n",
       "    <tr>\n",
       "      <th>2</th>\n",
       "      <td>1000000.0</td>\n",
       "      <td>12.29442</td>\n",
       "      <td>12.29618</td>\n",
       "      <td>0.00958</td>\n",
       "    </tr>\n",
       "    <tr>\n",
       "      <th>3</th>\n",
       "      <td>10000000.0</td>\n",
       "      <td>12.29442</td>\n",
       "      <td>12.29345</td>\n",
       "      <td>0.00303</td>\n",
       "    </tr>\n",
       "    <tr>\n",
       "      <th>4</th>\n",
       "      <td>100000000.0</td>\n",
       "      <td>12.29442</td>\n",
       "      <td>12.29350</td>\n",
       "      <td>0.00096</td>\n",
       "    </tr>\n",
       "  </tbody>\n",
       "</table>\n",
       "</div>"
      ],
      "text/plain": [
       "   Sample Size  Black-Scholes Price  Monte Carlo Estimate  Standard Error\n",
       "0      10000.0             12.29442              12.27792         0.09577\n",
       "1     100000.0             12.29442              12.33168         0.03035\n",
       "2    1000000.0             12.29442              12.29618         0.00958\n",
       "3   10000000.0             12.29442              12.29345         0.00303\n",
       "4  100000000.0             12.29442              12.29350         0.00096"
      ]
     },
     "execution_count": 6,
     "metadata": {},
     "output_type": "execute_result"
    }
   ],
   "source": [
    "np.random.seed(2019)\n",
    "sample_size = [1e4, 1e5, 1e6, 1e7, 1e8]\n",
    "mc_estimates = []\n",
    "mc_se = []\n",
    "bs_price = np.repeat(BS_call(50, 0.05, 0.2, 40, 1), 5)\n",
    "\n",
    "for n in sample_size:\n",
    "    mc_call = MC_call(50, 0.05, 0.2, 40, 1, int(n))\n",
    "    mc_estimates.append(mc_call[0])\n",
    "    mc_se.append(mc_call[1])\n",
    "\n",
    "df = pd.DataFrame({'Sample Size': sample_size, 'Black-Scholes Price': bs_price, \n",
    "                   'Monte Carlo Estimate': mc_estimates, 'Standard Error': mc_se})\n",
    "df"
   ]
  },
  {
   "cell_type": "markdown",
   "metadata": {},
   "source": [
    "#### European Call Option with strike price $K=60$,  $S_0 = 50$, $r=0.05$, $\\sigma=0.2$, and $T=1$."
   ]
  },
  {
   "cell_type": "code",
   "execution_count": 7,
   "metadata": {},
   "outputs": [
    {
     "data": {
      "text/html": [
       "<div>\n",
       "<style scoped>\n",
       "    .dataframe tbody tr th:only-of-type {\n",
       "        vertical-align: middle;\n",
       "    }\n",
       "\n",
       "    .dataframe tbody tr th {\n",
       "        vertical-align: top;\n",
       "    }\n",
       "\n",
       "    .dataframe thead th {\n",
       "        text-align: right;\n",
       "    }\n",
       "</style>\n",
       "<table border=\"1\" class=\"dataframe\">\n",
       "  <thead>\n",
       "    <tr style=\"text-align: right;\">\n",
       "      <th></th>\n",
       "      <th>Sample Size</th>\n",
       "      <th>Black-Scholes Price</th>\n",
       "      <th>Monte Carlo Estimate</th>\n",
       "      <th>Standard Error</th>\n",
       "    </tr>\n",
       "  </thead>\n",
       "  <tbody>\n",
       "    <tr>\n",
       "      <th>0</th>\n",
       "      <td>10000.0</td>\n",
       "      <td>1.62374</td>\n",
       "      <td>1.62142</td>\n",
       "      <td>0.04292</td>\n",
       "    </tr>\n",
       "    <tr>\n",
       "      <th>1</th>\n",
       "      <td>100000.0</td>\n",
       "      <td>1.62374</td>\n",
       "      <td>1.64203</td>\n",
       "      <td>0.01374</td>\n",
       "    </tr>\n",
       "    <tr>\n",
       "      <th>2</th>\n",
       "      <td>1000000.0</td>\n",
       "      <td>1.62374</td>\n",
       "      <td>1.62443</td>\n",
       "      <td>0.00434</td>\n",
       "    </tr>\n",
       "    <tr>\n",
       "      <th>3</th>\n",
       "      <td>10000000.0</td>\n",
       "      <td>1.62374</td>\n",
       "      <td>1.62476</td>\n",
       "      <td>0.00137</td>\n",
       "    </tr>\n",
       "    <tr>\n",
       "      <th>4</th>\n",
       "      <td>100000000.0</td>\n",
       "      <td>1.62374</td>\n",
       "      <td>1.62307</td>\n",
       "      <td>0.00043</td>\n",
       "    </tr>\n",
       "  </tbody>\n",
       "</table>\n",
       "</div>"
      ],
      "text/plain": [
       "   Sample Size  Black-Scholes Price  Monte Carlo Estimate  Standard Error\n",
       "0      10000.0              1.62374               1.62142         0.04292\n",
       "1     100000.0              1.62374               1.64203         0.01374\n",
       "2    1000000.0              1.62374               1.62443         0.00434\n",
       "3   10000000.0              1.62374               1.62476         0.00137\n",
       "4  100000000.0              1.62374               1.62307         0.00043"
      ]
     },
     "execution_count": 7,
     "metadata": {},
     "output_type": "execute_result"
    }
   ],
   "source": [
    "np.random.seed(2019)\n",
    "sample_size = [1e4, 1e5, 1e6, 1e7, 1e8]\n",
    "mc_estimates = []\n",
    "mc_se = []\n",
    "bs_price = np.repeat(BS_call(50, 0.05, 0.2, 60, 1), 5)\n",
    "\n",
    "for n in sample_size:\n",
    "    mc_call = MC_call(50, 0.05, 0.2, 60, 1, int(n))\n",
    "    mc_estimates.append(mc_call[0])\n",
    "    mc_se.append(mc_call[1])\n",
    "\n",
    "df = pd.DataFrame({'Sample Size': sample_size, 'Black-Scholes Price': bs_price, \n",
    "                   'Monte Carlo Estimate': mc_estimates, 'Standard Error': mc_se})\n",
    "df"
   ]
  },
  {
   "cell_type": "markdown",
   "metadata": {},
   "source": [
    "#### European Put Option with strike price $K=40$,  $S_0 = 50$, $r=0.05$, $\\sigma=0.2$, and $T=1$."
   ]
  },
  {
   "cell_type": "code",
   "execution_count": 8,
   "metadata": {},
   "outputs": [
    {
     "data": {
      "text/html": [
       "<div>\n",
       "<style scoped>\n",
       "    .dataframe tbody tr th:only-of-type {\n",
       "        vertical-align: middle;\n",
       "    }\n",
       "\n",
       "    .dataframe tbody tr th {\n",
       "        vertical-align: top;\n",
       "    }\n",
       "\n",
       "    .dataframe thead th {\n",
       "        text-align: right;\n",
       "    }\n",
       "</style>\n",
       "<table border=\"1\" class=\"dataframe\">\n",
       "  <thead>\n",
       "    <tr style=\"text-align: right;\">\n",
       "      <th></th>\n",
       "      <th>Sample Size</th>\n",
       "      <th>Black-Scholes Price</th>\n",
       "      <th>Monte Carlo Estimate</th>\n",
       "      <th>Standard Error</th>\n",
       "    </tr>\n",
       "  </thead>\n",
       "  <tbody>\n",
       "    <tr>\n",
       "      <th>0</th>\n",
       "      <td>10000.0</td>\n",
       "      <td>0.3436</td>\n",
       "      <td>0.35128</td>\n",
       "      <td>0.01354</td>\n",
       "    </tr>\n",
       "    <tr>\n",
       "      <th>1</th>\n",
       "      <td>100000.0</td>\n",
       "      <td>0.3436</td>\n",
       "      <td>0.34180</td>\n",
       "      <td>0.00421</td>\n",
       "    </tr>\n",
       "    <tr>\n",
       "      <th>2</th>\n",
       "      <td>1000000.0</td>\n",
       "      <td>0.3436</td>\n",
       "      <td>0.34300</td>\n",
       "      <td>0.00134</td>\n",
       "    </tr>\n",
       "    <tr>\n",
       "      <th>3</th>\n",
       "      <td>10000000.0</td>\n",
       "      <td>0.3436</td>\n",
       "      <td>0.34359</td>\n",
       "      <td>0.00042</td>\n",
       "    </tr>\n",
       "    <tr>\n",
       "      <th>4</th>\n",
       "      <td>100000000.0</td>\n",
       "      <td>0.3436</td>\n",
       "      <td>0.34368</td>\n",
       "      <td>0.00013</td>\n",
       "    </tr>\n",
       "  </tbody>\n",
       "</table>\n",
       "</div>"
      ],
      "text/plain": [
       "   Sample Size  Black-Scholes Price  Monte Carlo Estimate  Standard Error\n",
       "0      10000.0               0.3436               0.35128         0.01354\n",
       "1     100000.0               0.3436               0.34180         0.00421\n",
       "2    1000000.0               0.3436               0.34300         0.00134\n",
       "3   10000000.0               0.3436               0.34359         0.00042\n",
       "4  100000000.0               0.3436               0.34368         0.00013"
      ]
     },
     "execution_count": 8,
     "metadata": {},
     "output_type": "execute_result"
    }
   ],
   "source": [
    "np.random.seed(2019)\n",
    "sample_size = [1e4, 1e5, 1e6, 1e7, 1e8]\n",
    "mc_estimates = []\n",
    "mc_se = []\n",
    "bs_price = np.repeat(BS_put(50, 0.05, 0.2, 40, 1), 5)\n",
    "\n",
    "for n in sample_size:\n",
    "    mc_put = MC_put(50, 0.05, 0.2, 40, 1, int(n))\n",
    "    mc_estimates.append(mc_put[0])\n",
    "    mc_se.append(mc_put[1])\n",
    "\n",
    "df = pd.DataFrame({'Sample Size': sample_size, 'Black-Scholes Price': bs_price, \n",
    "                   'Monte Carlo Estimate': mc_estimates, 'Standard Error': mc_se})\n",
    "df"
   ]
  },
  {
   "cell_type": "markdown",
   "metadata": {},
   "source": [
    "#### European Put Option with strike price $K=60$,  $S_0 = 50$, $r=0.05$, $\\sigma=0.2$, and $T=1$."
   ]
  },
  {
   "cell_type": "code",
   "execution_count": 9,
   "metadata": {},
   "outputs": [
    {
     "data": {
      "text/html": [
       "<div>\n",
       "<style scoped>\n",
       "    .dataframe tbody tr th:only-of-type {\n",
       "        vertical-align: middle;\n",
       "    }\n",
       "\n",
       "    .dataframe tbody tr th {\n",
       "        vertical-align: top;\n",
       "    }\n",
       "\n",
       "    .dataframe thead th {\n",
       "        text-align: right;\n",
       "    }\n",
       "</style>\n",
       "<table border=\"1\" class=\"dataframe\">\n",
       "  <thead>\n",
       "    <tr style=\"text-align: right;\">\n",
       "      <th></th>\n",
       "      <th>Sample Size</th>\n",
       "      <th>Black-Scholes Price</th>\n",
       "      <th>Monte Carlo Estimate</th>\n",
       "      <th>Standard Error</th>\n",
       "    </tr>\n",
       "  </thead>\n",
       "  <tbody>\n",
       "    <tr>\n",
       "      <th>0</th>\n",
       "      <td>10000.0</td>\n",
       "      <td>8.69751</td>\n",
       "      <td>8.71936</td>\n",
       "      <td>0.07449</td>\n",
       "    </tr>\n",
       "    <tr>\n",
       "      <th>1</th>\n",
       "      <td>100000.0</td>\n",
       "      <td>8.69751</td>\n",
       "      <td>8.67674</td>\n",
       "      <td>0.02344</td>\n",
       "    </tr>\n",
       "    <tr>\n",
       "      <th>2</th>\n",
       "      <td>1000000.0</td>\n",
       "      <td>8.69751</td>\n",
       "      <td>8.69585</td>\n",
       "      <td>0.00741</td>\n",
       "    </tr>\n",
       "    <tr>\n",
       "      <th>3</th>\n",
       "      <td>10000000.0</td>\n",
       "      <td>8.69751</td>\n",
       "      <td>8.69949</td>\n",
       "      <td>0.00235</td>\n",
       "    </tr>\n",
       "    <tr>\n",
       "      <th>4</th>\n",
       "      <td>100000000.0</td>\n",
       "      <td>8.69751</td>\n",
       "      <td>8.69784</td>\n",
       "      <td>0.00074</td>\n",
       "    </tr>\n",
       "  </tbody>\n",
       "</table>\n",
       "</div>"
      ],
      "text/plain": [
       "   Sample Size  Black-Scholes Price  Monte Carlo Estimate  Standard Error\n",
       "0      10000.0              8.69751               8.71936         0.07449\n",
       "1     100000.0              8.69751               8.67674         0.02344\n",
       "2    1000000.0              8.69751               8.69585         0.00741\n",
       "3   10000000.0              8.69751               8.69949         0.00235\n",
       "4  100000000.0              8.69751               8.69784         0.00074"
      ]
     },
     "execution_count": 9,
     "metadata": {},
     "output_type": "execute_result"
    }
   ],
   "source": [
    "np.random.seed(2019)\n",
    "sample_size = [1e4, 1e5, 1e6, 1e7, 1e8]\n",
    "mc_estimates = []\n",
    "mc_se = []\n",
    "bs_price = np.repeat(BS_put(50, 0.05, 0.2, 60, 1), 5)\n",
    "\n",
    "for n in sample_size:\n",
    "    mc_put = MC_put(50, 0.05, 0.2, 60, 1, int(n))\n",
    "    mc_estimates.append(mc_put[0])\n",
    "    mc_se.append(mc_put[1])\n",
    "\n",
    "df = pd.DataFrame({'Sample Size': sample_size, 'Black-Scholes Price': bs_price, \n",
    "                   'Monte Carlo Estimate': mc_estimates, 'Standard Error': mc_se})\n",
    "df"
   ]
  },
  {
   "cell_type": "markdown",
   "metadata": {},
   "source": [
    "#### Observation:\n",
    "If one increases the sample size in a Monte Carlo estimation by a factor of $n$, the standard error will be reduced by a factor of $\\sqrt n$. One can easily observe this phenomennon by comparing the 1st and the 3rd rows (or the 3rd and 5th rows for that matter) in each dataframe above by noting the 100-fold increase in sample size and 10-fold decrease in standard error."
   ]
  },
  {
   "cell_type": "code",
   "execution_count": null,
   "metadata": {},
   "outputs": [],
   "source": []
  }
 ],
 "metadata": {
  "kernelspec": {
   "display_name": "Python 3",
   "language": "python",
   "name": "python3"
  },
  "language_info": {
   "codemirror_mode": {
    "name": "ipython",
    "version": 3
   },
   "file_extension": ".py",
   "mimetype": "text/x-python",
   "name": "python",
   "nbconvert_exporter": "python",
   "pygments_lexer": "ipython3",
   "version": "3.7.5"
  }
 },
 "nbformat": 4,
 "nbformat_minor": 4
}
